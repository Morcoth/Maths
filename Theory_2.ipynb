{
 "cells": [
  {
   "cell_type": "code",
   "execution_count": 1,
   "metadata": {},
   "outputs": [],
   "source": [
    "import numpy as np"
   ]
  },
  {
   "cell_type": "markdown",
   "metadata": {},
   "source": [
    "1) Вероятность того, что стрелок попадет в мишень, выстрелив один раз, равна 0.8. Стрелок выстрелил 100 раз. Найдите вероятность того, что стрелок попадет в цель ровно 85 раз."
   ]
  },
  {
   "cell_type": "code",
   "execution_count": 4,
   "metadata": {},
   "outputs": [
    {
     "name": "stdout",
     "output_type": "stream",
     "text": [
      "0.0019012550645588063\n"
     ]
    }
   ],
   "source": [
    "from math import factorial\n",
    "n = 100\n",
    "p = 0.8\n",
    "m = 85\n",
    "ans = factorial(100)/(factorial(85)*factorial(100-85))*(0.85**80)*(0.15**20)\n",
    "print (ans*100)\n"
   ]
  },
  {
   "cell_type": "markdown",
   "metadata": {},
   "source": [
    "2) Вероятность того, что лампочка перегорит в течение первого дня эксплуатации, равна 0.0004. В жилом комплексе после ремонта в один день включили 5000 новых лампочек. Какова вероятность, что ни одна из них не перегорит в первый день? Какова вероятность, что перегорят ровно две?"
   ]
  },
  {
   "cell_type": "code",
   "execution_count": 5,
   "metadata": {},
   "outputs": [
    {
     "name": "stdout",
     "output_type": "stream",
     "text": [
      "13.53352832366127\n",
      "27.06705664732254\n"
     ]
    }
   ],
   "source": [
    "n = 5000\n",
    "p = 0.0004\n",
    "m1 = 0\n",
    "m2 = 2\n",
    "_lambda = n*p\n",
    "print((_lambda**m1 / np.math.factorial(m1)) * np.exp(-_lambda)*100)\n",
    "print((_lambda**m2 / np.math.factorial(m2)) * np.exp(-_lambda)*100)"
   ]
  },
  {
   "cell_type": "markdown",
   "metadata": {},
   "source": [
    "3) Монету подбросили 144 раза. Какова вероятность, что орел выпадет ровно 70 раз?\n"
   ]
  },
  {
   "cell_type": "code",
   "execution_count": 14,
   "metadata": {},
   "outputs": [
    {
     "name": "stdout",
     "output_type": "stream",
     "text": [
      "6.457183323608757e-40\n"
     ]
    }
   ],
   "source": [
    "n = 144\n",
    "m = 70\n",
    "ans = 144 * 0.5**70 * 0.5**(144-70)\n",
    "print (ans*100)"
   ]
  },
  {
   "cell_type": "markdown",
   "metadata": {},
   "source": [
    "4) В первом ящике находится 10 мячей, из которых 7 - белые. Во втором ящике - 11 мячей, из которых 9 белых. Из каждого ящика вытаскивают случайным образом по два мяча. Какова вероятность того, что все мячи белые? Какова вероятность того, что ровно два мяча белые? Какова вероятность того, что хотя бы один мяч белый?"
   ]
  },
  {
   "cell_type": "code",
   "execution_count": 27,
   "metadata": {},
   "outputs": [
    {
     "name": "stdout",
     "output_type": "stream",
     "text": [
      "Все мячи белые 74.62121212121214\n",
      "Два мяча белые 57.14285714285714\n",
      "Хотя бы один мяч белый 99.99999999933087\n"
     ]
    }
   ],
   "source": [
    "PB1 = 1/4 * 7/10 + 1/4 * 6/9 + 1/4 * 9/11 + 1/4 * 8/10\n",
    "print (f'Все мячи белые {PB1 * 100}')\n",
    "count_balls = 21\n",
    "white_balls = 16\n",
    "C1 = (factorial(white_balls))/(factorial(2)*factorial(14))\n",
    "C2 = factorial(count_balls) /(factorial(2)*factorial(count_balls-2))\n",
    "P = C1 / C2\n",
    "print(f'Два мяча белые {P*100}')\n",
    "C3 = (factorial(21-16) / (factorial(4)* factorial(count_balls-8)))\n",
    "C4 = C1 - C3\n",
    "P2 = C4/C1\n",
    "print(f'Хотя бы один мяч белый {P2*100}')\n"
   ]
  },
  {
   "cell_type": "code",
   "execution_count": null,
   "metadata": {},
   "outputs": [],
   "source": []
  }
 ],
 "metadata": {
  "kernelspec": {
   "display_name": "Python 3",
   "language": "python",
   "name": "python3"
  },
  "language_info": {
   "codemirror_mode": {
    "name": "ipython",
    "version": 3
   },
   "file_extension": ".py",
   "mimetype": "text/x-python",
   "name": "python",
   "nbconvert_exporter": "python",
   "pygments_lexer": "ipython3",
   "version": "3.7.3"
  }
 },
 "nbformat": 4,
 "nbformat_minor": 2
}
