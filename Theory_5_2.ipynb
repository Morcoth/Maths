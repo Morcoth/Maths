{
 "cells": [
  {
   "cell_type": "markdown",
   "metadata": {},
   "source": [
    "Известно, что генеральная совокупность распределена нормально\n",
    "со средним квадратическим отклонением, равным 16.\n",
    "Найти доверительный интервал для оценки математического ожидания a с надежностью 0.95,\n",
    "если выборочная средняя M = 80, а объем выборки n = 256."
   ]
  },
  {
   "cell_type": "code",
   "execution_count": 1,
   "metadata": {},
   "outputs": [
    {
     "name": "stdout",
     "output_type": "stream",
     "text": [
      "78.04<a<81.96\n"
     ]
    }
   ],
   "source": [
    "import numpy as np\n",
    "M = 80\n",
    "N = 256\n",
    "a = 16\n",
    "A = 0.95\n",
    "T1 = M-1.96*(a/np.sqrt(N))\n",
    "T2 = M+1.96*(a/np.sqrt(N))\n",
    "print(f\"{T1}<a<{T2}\")"
   ]
  },
  {
   "cell_type": "markdown",
   "metadata": {},
   "source": [
    "В результате 10 независимых измерений некоторой величины X, выполненных с одинаковой точностью,\n",
    "получены опытные данные:\n",
    "6.9, 6.1, 6.2, 6.8, 7.5, 6.3, 6.4, 6.9, 6.7, 6.1\n",
    "Предполагая, что результаты измерений подчинены нормальному закону распределения вероятностей,\n",
    "оценить истинное значение величины X при помощи доверительного интервала, покрывающего это\n",
    "значение с доверительной вероятностью 0,95."
   ]
  },
  {
   "cell_type": "code",
   "execution_count": 2,
   "metadata": {},
   "outputs": [
    {
     "name": "stdout",
     "output_type": "stream",
     "text": [
      "6.267538255912426<6.912461744087575\n"
     ]
    }
   ],
   "source": [
    "import pandas as pd\n",
    "\n",
    "data = np.array([6.9, 6.1, 6.2, 6.8, 7.5, 6.3, 6.4, 6.9, 6.7, 6.1])\n",
    "D = data.var(ddof=1) # дисперсия\n",
    "mu = data.mean() # средняя\n",
    "std = D**0.5 # Отклонение\n",
    "S = mu+2.262*std/10**0.5\n",
    "S2 =  mu-2.262*std/10**0.5\n",
    "\n",
    "print (f\"{S2}<{S}\")"
   ]
  },
  {
   "cell_type": "markdown",
   "metadata": {},
   "source": [
    "Утверждается, что шарики для подшипников, изготовленные автоматическим станком, имеют средний диаметр 17 мм.\n",
    "Используя односторонний критерий с α=0,05, проверить эту гипотезу, если в выборке из n=100 шариков средний диаметр\n",
    "оказался равным 17.5 мм, а дисперсия известна и равна 4 мм."
   ]
  },
  {
   "cell_type": "code",
   "execution_count": 3,
   "metadata": {},
   "outputs": [
    {
     "name": "stdout",
     "output_type": "stream",
     "text": [
      "принимаем H1 равную 2.5\n"
     ]
    }
   ],
   "source": [
    "mu0=17\n",
    "a=0.05\n",
    "n=100\n",
    "mu=17.5\n",
    "D=4\n",
    "z = np.sqrt(D)/np.sqrt(100)\n",
    "H1=(mu-mu0)/z\n",
    "print (f\"принимаем H1 равную {H1}\")"
   ]
  },
  {
   "cell_type": "markdown",
   "metadata": {},
   "source": [
    "Продавец утверждает, что средний вес пачки печенья составляет 200 г.\n",
    "Из партии извлечена выборка из 10 пачек. Вес каждой пачки составляет:\n",
    "202, 203, 199, 197, 195, 201, 200, 204, 194, 190.\n",
    "Известно, что их веса распределены нормально.\n",
    "Верно ли утверждение продавца, если учитывать, что доверительная вероятность равна 99%?"
   ]
  },
  {
   "cell_type": "code",
   "execution_count": 4,
   "metadata": {},
   "outputs": [
    {
     "name": "stdout",
     "output_type": "stream",
     "text": [
      "принимаем H0 равную -1.0651074037450896\n"
     ]
    }
   ],
   "source": [
    "data = np.array([202, 203, 199, 197, 195, 201, 200, 204, 194, 190])\n",
    "mu0=200\n",
    "mu=data.mean()\n",
    "a=0.01\n",
    "n=10\n",
    "std=data.std(ddof=1)\n",
    "H=(mu-mu0)/std * np.sqrt(10)\n",
    "print (f\"принимаем H0 равную {H}\")"
   ]
  },
  {
   "cell_type": "code",
   "execution_count": null,
   "metadata": {},
   "outputs": [],
   "source": []
  }
 ],
 "metadata": {
  "kernelspec": {
   "display_name": "Python 3",
   "language": "python",
   "name": "python3"
  },
  "language_info": {
   "codemirror_mode": {
    "name": "ipython",
    "version": 3
   },
   "file_extension": ".py",
   "mimetype": "text/x-python",
   "name": "python",
   "nbconvert_exporter": "python",
   "pygments_lexer": "ipython3",
   "version": "3.7.3"
  }
 },
 "nbformat": 4,
 "nbformat_minor": 2
}
