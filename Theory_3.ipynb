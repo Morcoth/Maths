{
 "cells": [
  {
   "cell_type": "markdown",
   "metadata": {},
   "source": [
    "1) Даны значения зарплат из выборки выпускников: 100, 80, 75, 77, 89, 33, 45, 25, 65, 17, 30, 24, 57, 55, 70, 75, 65, 84, 90, 150. Посчитать (желательно без использования статистических методов наподобие std, var, mean) среднее арифметическое, среднее квадратичное отклонение, смещенную и несмещенную оценки дисперсий для данной выборки."
   ]
  },
  {
   "cell_type": "code",
   "execution_count": 51,
   "metadata": {},
   "outputs": [
    {
     "name": "stdout",
     "output_type": "stream",
     "text": [
      "Среднее: 65.3\n"
     ]
    }
   ],
   "source": [
    "import numpy as np\n",
    "import pandas as pd\n",
    "df_garray = pd.DataFrame([100, 80, 75, 77, 89, 33, 45, 25, 65, 17, 30, 24, 57, 55, 70, 75, 65, 84, 90, 150])\n",
    "mid = df_garray[0].sum()/df_garray[0].count()\n",
    "print(f'Среднее: {mid}')"
   ]
  },
  {
   "cell_type": "code",
   "execution_count": 45,
   "metadata": {},
   "outputs": [
    {
     "name": "stdout",
     "output_type": "stream",
     "text": [
      "Среднее квадратичное: 30.823854398825596\n"
     ]
    }
   ],
   "source": [
    "_std = np.sqrt(((df_garray[0] - df_garray[0].mean())**2).sum() / df_garray[0].count())\n",
    "print(f'Среднее квадратичное: {_std}')"
   ]
  },
  {
   "cell_type": "code",
   "execution_count": 46,
   "metadata": {},
   "outputs": [
    {
     "name": "stdout",
     "output_type": "stream",
     "text": [
      "Смещенная дисперсия: 950.11\n"
     ]
    }
   ],
   "source": [
    "variance = ((df_garray[0] - df_garray[0].mean())**2).sum() / df_garray[0].count()\n",
    "print(f'Смещенная дисперсия: {variance}')"
   ]
  },
  {
   "cell_type": "code",
   "execution_count": 49,
   "metadata": {},
   "outputs": [
    {
     "name": "stdout",
     "output_type": "stream",
     "text": [
      "Несмещенная дисперсия: 1000.1157894736842\n"
     ]
    }
   ],
   "source": [
    "non_variance = ((df_garray[0] - df_garray[0].mean())**2).sum() / (df_garray[0].count()-1)\n",
    "print (f'Несмещенная дисперсия: {non_variance}')"
   ]
  },
  {
   "cell_type": "markdown",
   "metadata": {},
   "source": [
    "2) В первом ящике находится 8 мячей, из которых 5 - белые. Во втором ящике - 12 мячей, из которых 5 белых. Из первого ящика вытаскивают случайным образом два мяча, из второго - 4. Какова вероятность того, что 3 мяча белые?"
   ]
  },
  {
   "cell_type": "code",
   "execution_count": 56,
   "metadata": {},
   "outputs": [
    {
     "name": "stdout",
     "output_type": "stream",
     "text": [
      "Вероятность вытащить 3 белых мяча: 0.40079365079365076\n"
     ]
    }
   ],
   "source": [
    "from math import factorial\n",
    "box1 = 8\n",
    "box2 = 5\n",
    "def combinations (n, k):\n",
    "    return int (factorial(n)/(factorial(k)*factorial(n-k)))\n",
    "temp_ans1 = combinations(5,2)/combinations(8,2) * combinations(5, 1)/combinations(10, 1)\n",
    "temp_ans2 = combinations(5,1)/combinations(8,1) * combinations(5, 2)/combinations(10, 2)\n",
    "temp_ans3 = combinations(5,0)/combinations(8,0) * combinations(5, 3)/combinations(10, 3)\n",
    "ans = temp_ans1+temp_ans2+temp_ans3\n",
    "print (f'Вероятность вытащить 3 белых мяча: {ans}')"
   ]
  },
  {
   "cell_type": "markdown",
   "metadata": {},
   "source": [
    "3) На соревновании по биатлону один из трех спортсменов стреляет и попадает в мишень. Вероятность попадания для первого спортсмена равна 0.9, для второго — 0.8, для третьего — 0.6. Найти вероятность того, что выстрел произведен: a). первым спортсменом б). вторым спортсменом в). третьим спортсменом."
   ]
  },
  {
   "cell_type": "code",
   "execution_count": 68,
   "metadata": {},
   "outputs": [
    {
     "name": "stdout",
     "output_type": "stream",
     "text": [
      "111.11111111111111\n",
      "0.8\n",
      "0.6\n",
      "Фигня какая то я запутался\n"
     ]
    }
   ],
   "source": [
    "ans1 = (0.9**1)*(0.1**0)\n",
    "ans2 = (0.8**1)*(0.2**0)\n",
    "ans3 = (0.6**1)*(0.4**0)\n",
    "print(ans1)\n",
    "print(ans2)\n",
    "print(ans3)\n",
    "print (\"Фигня какая то я запутался\")"
   ]
  },
  {
   "cell_type": "markdown",
   "metadata": {},
   "source": [
    "4) В университет на факультеты A и B поступило равное количество студентов, а на факультет C студентов поступило столько же, сколько на A и B вместе. Вероятность того, что студент факультета A сдаст первую сессию, равна 0.8. Для студента факультета B эта вероятность равна 0.7, а для студента факультета C - 0.9. Студент сдал первую сессию. Какова вероятность, что он учится: a). на факультете A б). на факультете B в). на факультете C?"
   ]
  },
  {
   "cell_type": "code",
   "execution_count": 71,
   "metadata": {},
   "outputs": [
    {
     "name": "stdout",
     "output_type": "stream",
     "text": [
      "0.16000000000000003\n",
      "0.21\n",
      "0.18000000000000002\n"
     ]
    }
   ],
   "source": [
    "PA = 0.8\n",
    "PB = 0.7\n",
    "PC = 0.9\n",
    "ans1 = factorial(1)/(factorial(1)*factorial(1))*(PA)*(0.2)\n",
    "ans2 = factorial(1)/(factorial(1)*factorial(1))*(PB)*(0.3)\n",
    "ans3 = 2 * (factorial(1)/(factorial(1)*factorial(1))*(PC)*(0.1))\n",
    "print(ans1)\n",
    "print(ans2)\n",
    "print(ans3)"
   ]
  },
  {
   "cell_type": "markdown",
   "metadata": {},
   "source": [
    "5) Устройство состоит из трех деталей. Для первой детали вероятность выйти из строя в первый месяц равна 0.1, для второй - 0.2, для третьей - 0.25. Какова вероятность того, что в первый месяц выйдут из строя: а). все детали б). только две детали в). хотя бы одна деталь г). от одной до двух деталей?"
   ]
  },
  {
   "cell_type": "code",
   "execution_count": null,
   "metadata": {},
   "outputs": [],
   "source": []
  }
 ],
 "metadata": {
  "kernelspec": {
   "display_name": "Python 3",
   "language": "python",
   "name": "python3"
  },
  "language_info": {
   "codemirror_mode": {
    "name": "ipython",
    "version": 3
   },
   "file_extension": ".py",
   "mimetype": "text/x-python",
   "name": "python",
   "nbconvert_exporter": "python",
   "pygments_lexer": "ipython3",
   "version": "3.7.3"
  }
 },
 "nbformat": 4,
 "nbformat_minor": 2
}
