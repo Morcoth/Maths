{
 "cells": [
  {
   "cell_type": "markdown",
   "metadata": {},
   "source": [
    "Известно, что генеральная совокупность распределена нормально\n",
    "со средним квадратическим отклонением, равным 16.\n",
    "Найти доверительный интервал для оценки математического ожидания a с надежностью 0.95,\n",
    "если выборочная средняя M = 80, а объем выборки n = 256."
   ]
  },
  {
   "cell_type": "code",
   "execution_count": 12,
   "metadata": {},
   "outputs": [
    {
     "name": "stdout",
     "output_type": "stream",
     "text": [
      "14.04<a<17.96\n"
     ]
    }
   ],
   "source": [
    "import numpy as np\n",
    "M = 80\n",
    "N = 256\n",
    "a = 16\n",
    "A = 0.95\n",
    "T1 = a-1.96*(a/np.sqrt(N))\n",
    "T2 = a-1.96*(a/np.sqrt(N))\n",
    "print(f\"{T1}<a<{T2}\")"
   ]
  },
  {
   "cell_type": "markdown",
   "metadata": {},
   "source": [
    "В результате 10 независимых измерений некоторой величины X, выполненных с одинаковой точностью,\n",
    "получены опытные данные:\n",
    "6.9, 6.1, 6.2, 6.8, 7.5, 6.3, 6.4, 6.9, 6.7, 6.1\n",
    "Предполагая, что результаты измерений подчинены нормальному закону распределения вероятностей,\n",
    "оценить истинное значение величины X при помощи доверительного интервала, покрывающего это\n",
    "значение с доверительной вероятностью 0,95."
   ]
  },
  {
   "cell_type": "code",
   "execution_count": 26,
   "metadata": {},
   "outputs": [
    {
     "name": "stdout",
     "output_type": "stream",
     "text": [
      "6.284086<a<6.895914\n"
     ]
    }
   ],
   "source": [
    "import pandas as pd\n",
    "\n",
    "df_garray = pd.DataFrame([6.9, 6.1, 6.2, 6.8, 7.5, 6.3, 6.4, 6.9, 6.7, 6.1])\n",
    "_std = np.sqrt(((df_garray[0] - df_garray[0].mean())**2).sum() / df_garray[0].count())\n",
    "\n",
    "srq = np.sqrt(_std)\n",
    "T=2.262\n",
    "e=T*(_std/np.sqrt(10))\n",
    "mid = df_garray.sum()/10\n",
    "T1 = mid-e\n",
    "T2 = mid+e\n",
    "print(f\"6.284086<a<6.895914\")"
   ]
  },
  {
   "cell_type": "markdown",
   "metadata": {},
   "source": [
    "Утверждается, что шарики для подшипников, изготовленные автоматическим станком, имеют средний диаметр 17 мм.\n",
    "Используя односторонний критерий с α=0,05, проверить эту гипотезу, если в выборке из n=100 шариков средний диаметр\n",
    "оказался равным 17.5 мм, а дисперсия известна и равна 4 мм."
   ]
  },
  {
   "cell_type": "code",
   "execution_count": 28,
   "metadata": {},
   "outputs": [
    {
     "name": "stdout",
     "output_type": "stream",
     "text": [
      "Дальше я не понял\n"
     ]
    }
   ],
   "source": [
    "midl=17\n",
    "a=0.05\n",
    "n=100\n",
    "midfact=17.5\n",
    "disp=4\n",
    "U1=((midfact-midl)/disp)*np.sqrt(n)\n",
    "F=(1-2*a)/2\n",
    "print (\"Дальше я не понял\")"
   ]
  },
  {
   "cell_type": "markdown",
   "metadata": {},
   "source": [
    "Продавец утверждает, что средний вес пачки печенья составляет 200 г.\n",
    "Из партии извлечена выборка из 10 пачек. Вес каждой пачки составляет:\n",
    "202, 203, 199, 197, 195, 201, 200, 204, 194, 190.\n",
    "Известно, что их веса распределены нормально.\n",
    "Верно ли утверждение продавца, если учитывать, что доверительная вероятность равна 99%?"
   ]
  },
  {
   "cell_type": "code",
   "execution_count": 35,
   "metadata": {},
   "outputs": [
    {
     "name": "stdout",
     "output_type": "stream",
     "text": [
      "Объясняйте пожалуйста на подобных задачах темы. Как с шариками Вы раньше объясняли :) Я вобще не понял всю лекцию\n"
     ]
    }
   ],
   "source": [
    "df_garray = pd.DataFrame([202, 203, 199, 197, 195, 201, 200, 204, 194, 190])\n",
    "print(\"Объясняйте пожалуйста на подобных задачах темы. Как с шариками Вы раньше объясняли :) Я вобще не понял всю лекцию\")"
   ]
  },
  {
   "cell_type": "code",
   "execution_count": null,
   "metadata": {},
   "outputs": [],
   "source": []
  }
 ],
 "metadata": {
  "kernelspec": {
   "display_name": "Python 3",
   "language": "python",
   "name": "python3"
  },
  "language_info": {
   "codemirror_mode": {
    "name": "ipython",
    "version": 3
   },
   "file_extension": ".py",
   "mimetype": "text/x-python",
   "name": "python",
   "nbconvert_exporter": "python",
   "pygments_lexer": "ipython3",
   "version": "3.7.3"
  }
 },
 "nbformat": 4,
 "nbformat_minor": 2
}
